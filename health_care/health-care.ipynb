{
 "cells": [
  {
   "cell_type": "code",
   "execution_count": 1,
   "id": "50a4ce55",
   "metadata": {},
   "outputs": [],
   "source": [
    "import pandas as pd\n",
    "from pandas import Series, DataFrame \n",
    "import numpy as np\n",
    "import matplotlib.pyplot as plt"
   ]
  },
  {
   "cell_type": "code",
   "execution_count": 2,
   "id": "eda155df",
   "metadata": {},
   "outputs": [],
   "source": [
    "df = pd.read_csv(\"D:\\data-science-project\\learning-data-science\\health_care\\healthcare_dataset.csv\")"
   ]
  },
  {
   "cell_type": "code",
   "execution_count": 3,
   "id": "5d435f85",
   "metadata": {},
   "outputs": [
    {
     "data": {
      "text/html": [
       "<div>\n",
       "<style scoped>\n",
       "    .dataframe tbody tr th:only-of-type {\n",
       "        vertical-align: middle;\n",
       "    }\n",
       "\n",
       "    .dataframe tbody tr th {\n",
       "        vertical-align: top;\n",
       "    }\n",
       "\n",
       "    .dataframe thead th {\n",
       "        text-align: right;\n",
       "    }\n",
       "</style>\n",
       "<table border=\"1\" class=\"dataframe\">\n",
       "  <thead>\n",
       "    <tr style=\"text-align: right;\">\n",
       "      <th></th>\n",
       "      <th>Name</th>\n",
       "      <th>Age</th>\n",
       "      <th>Gender</th>\n",
       "      <th>Blood Type</th>\n",
       "      <th>Medical Condition</th>\n",
       "      <th>Date of Admission</th>\n",
       "      <th>Doctor</th>\n",
       "      <th>Hospital</th>\n",
       "      <th>Insurance Provider</th>\n",
       "      <th>Billing Amount</th>\n",
       "      <th>Room Number</th>\n",
       "      <th>Admission Type</th>\n",
       "      <th>Discharge Date</th>\n",
       "      <th>Medication</th>\n",
       "      <th>Test Results</th>\n",
       "    </tr>\n",
       "  </thead>\n",
       "  <tbody>\n",
       "    <tr>\n",
       "      <th>0</th>\n",
       "      <td>Bobby JacksOn</td>\n",
       "      <td>30</td>\n",
       "      <td>Male</td>\n",
       "      <td>B-</td>\n",
       "      <td>Cancer</td>\n",
       "      <td>2024-01-31</td>\n",
       "      <td>Matthew Smith</td>\n",
       "      <td>Sons and Miller</td>\n",
       "      <td>Blue Cross</td>\n",
       "      <td>18856.281306</td>\n",
       "      <td>328</td>\n",
       "      <td>Urgent</td>\n",
       "      <td>2024-02-02</td>\n",
       "      <td>Paracetamol</td>\n",
       "      <td>Normal</td>\n",
       "    </tr>\n",
       "    <tr>\n",
       "      <th>1</th>\n",
       "      <td>LesLie TErRy</td>\n",
       "      <td>62</td>\n",
       "      <td>Male</td>\n",
       "      <td>A+</td>\n",
       "      <td>Obesity</td>\n",
       "      <td>2019-08-20</td>\n",
       "      <td>Samantha Davies</td>\n",
       "      <td>Kim Inc</td>\n",
       "      <td>Medicare</td>\n",
       "      <td>33643.327287</td>\n",
       "      <td>265</td>\n",
       "      <td>Emergency</td>\n",
       "      <td>2019-08-26</td>\n",
       "      <td>Ibuprofen</td>\n",
       "      <td>Inconclusive</td>\n",
       "    </tr>\n",
       "    <tr>\n",
       "      <th>2</th>\n",
       "      <td>DaNnY sMitH</td>\n",
       "      <td>76</td>\n",
       "      <td>Female</td>\n",
       "      <td>A-</td>\n",
       "      <td>Obesity</td>\n",
       "      <td>2022-09-22</td>\n",
       "      <td>Tiffany Mitchell</td>\n",
       "      <td>Cook PLC</td>\n",
       "      <td>Aetna</td>\n",
       "      <td>27955.096079</td>\n",
       "      <td>205</td>\n",
       "      <td>Emergency</td>\n",
       "      <td>2022-10-07</td>\n",
       "      <td>Aspirin</td>\n",
       "      <td>Normal</td>\n",
       "    </tr>\n",
       "    <tr>\n",
       "      <th>3</th>\n",
       "      <td>andrEw waTtS</td>\n",
       "      <td>28</td>\n",
       "      <td>Female</td>\n",
       "      <td>O+</td>\n",
       "      <td>Diabetes</td>\n",
       "      <td>2020-11-18</td>\n",
       "      <td>Kevin Wells</td>\n",
       "      <td>Hernandez Rogers and Vang,</td>\n",
       "      <td>Medicare</td>\n",
       "      <td>37909.782410</td>\n",
       "      <td>450</td>\n",
       "      <td>Elective</td>\n",
       "      <td>2020-12-18</td>\n",
       "      <td>Ibuprofen</td>\n",
       "      <td>Abnormal</td>\n",
       "    </tr>\n",
       "    <tr>\n",
       "      <th>4</th>\n",
       "      <td>adrIENNE bEll</td>\n",
       "      <td>43</td>\n",
       "      <td>Female</td>\n",
       "      <td>AB+</td>\n",
       "      <td>Cancer</td>\n",
       "      <td>2022-09-19</td>\n",
       "      <td>Kathleen Hanna</td>\n",
       "      <td>White-White</td>\n",
       "      <td>Aetna</td>\n",
       "      <td>14238.317814</td>\n",
       "      <td>458</td>\n",
       "      <td>Urgent</td>\n",
       "      <td>2022-10-09</td>\n",
       "      <td>Penicillin</td>\n",
       "      <td>Abnormal</td>\n",
       "    </tr>\n",
       "  </tbody>\n",
       "</table>\n",
       "</div>"
      ],
      "text/plain": [
       "            Name  Age  Gender Blood Type Medical Condition Date of Admission  \\\n",
       "0  Bobby JacksOn   30    Male         B-            Cancer        2024-01-31   \n",
       "1   LesLie TErRy   62    Male         A+           Obesity        2019-08-20   \n",
       "2    DaNnY sMitH   76  Female         A-           Obesity        2022-09-22   \n",
       "3   andrEw waTtS   28  Female         O+          Diabetes        2020-11-18   \n",
       "4  adrIENNE bEll   43  Female        AB+            Cancer        2022-09-19   \n",
       "\n",
       "             Doctor                    Hospital Insurance Provider  \\\n",
       "0     Matthew Smith             Sons and Miller         Blue Cross   \n",
       "1   Samantha Davies                     Kim Inc           Medicare   \n",
       "2  Tiffany Mitchell                    Cook PLC              Aetna   \n",
       "3       Kevin Wells  Hernandez Rogers and Vang,           Medicare   \n",
       "4    Kathleen Hanna                 White-White              Aetna   \n",
       "\n",
       "   Billing Amount  Room Number Admission Type Discharge Date   Medication  \\\n",
       "0    18856.281306          328         Urgent     2024-02-02  Paracetamol   \n",
       "1    33643.327287          265      Emergency     2019-08-26    Ibuprofen   \n",
       "2    27955.096079          205      Emergency     2022-10-07      Aspirin   \n",
       "3    37909.782410          450       Elective     2020-12-18    Ibuprofen   \n",
       "4    14238.317814          458         Urgent     2022-10-09   Penicillin   \n",
       "\n",
       "   Test Results  \n",
       "0        Normal  \n",
       "1  Inconclusive  \n",
       "2        Normal  \n",
       "3      Abnormal  \n",
       "4      Abnormal  "
      ]
     },
     "execution_count": 3,
     "metadata": {},
     "output_type": "execute_result"
    }
   ],
   "source": [
    "df.head()"
   ]
  },
  {
   "cell_type": "code",
   "execution_count": 4,
   "id": "a3997d85",
   "metadata": {},
   "outputs": [
    {
     "data": {
      "text/plain": [
       "55500"
      ]
     },
     "execution_count": 4,
     "metadata": {},
     "output_type": "execute_result"
    }
   ],
   "source": [
    "df.shape[0]"
   ]
  },
  {
   "cell_type": "code",
   "execution_count": 5,
   "id": "6e2a772b",
   "metadata": {},
   "outputs": [
    {
     "data": {
      "text/plain": [
       "0"
      ]
     },
     "execution_count": 5,
     "metadata": {},
     "output_type": "execute_result"
    }
   ],
   "source": [
    "missing_gender = df['Gender'].isnull().sum()\n",
    "missing_gender"
   ]
  },
  {
   "cell_type": "code",
   "execution_count": 6,
   "id": "9340cc9b",
   "metadata": {},
   "outputs": [],
   "source": [
    "df_male = df[df['Gender'] == 'Male']\n",
    "df_female = df[df['Gender'] == 'Female']"
   ]
  },
  {
   "cell_type": "code",
   "execution_count": 7,
   "id": "8b91f67f",
   "metadata": {},
   "outputs": [],
   "source": [
    "male_number = df_male.shape[0]\n",
    "female_number = df_female.shape[0]"
   ]
  },
  {
   "cell_type": "code",
   "execution_count": 8,
   "id": "8fc74c70",
   "metadata": {},
   "outputs": [
    {
     "data": {
      "text/plain": [
       "55500"
      ]
     },
     "execution_count": 8,
     "metadata": {},
     "output_type": "execute_result"
    }
   ],
   "source": [
    "male_number + female_number"
   ]
  },
  {
   "cell_type": "code",
   "execution_count": 9,
   "id": "a98fdffc",
   "metadata": {},
   "outputs": [
    {
     "data": {
      "image/png": "[encoded data removed]",
      "text/plain": [
       "<Figure size 600x600 with 1 Axes>"
      ]
     },
     "metadata": {},
     "output_type": "display_data"
    }
   ],
   "source": [
    "pieChart_data = np.array([male_number, female_number])\n",
    "pieChart_label = np.array(['Male', 'Female'])\n",
    "fig = plt.figure(figsize=(6,6))\n",
    "plt.pie(pieChart_data, labels= pieChart_label)\n",
    "plt.show()"
   ]
  },
  {
   "cell_type": "markdown",
   "id": "e125eba9",
   "metadata": {},
   "source": [
    "## Analyzing age\n",
    "Now we will see the age range, mean, median and mode of the patients"
   ]
  },
  {
   "cell_type": "code",
   "execution_count": 30,
   "id": "72e7c456",
   "metadata": {},
   "outputs": [
    {
     "data": {
      "text/plain": [
       "array([50377, 50823, 50908, 50929, 51095, 51824, 51833, 51873, 51900,\n",
       "       52172, 53528, 53590, 54302, 55382], dtype=int64)"
      ]
     },
     "execution_count": 30,
     "metadata": {},
     "output_type": "execute_result"
    }
   ],
   "source": [
    "youngest_person_age = df['Age'].min()\n",
    "yooungest_index = df[df['Age'] == youngest_person_age].index.values\n",
    "youngest_patient_number = pd.DataFrame(df.loc[yooungest_index, 'Age']).shape[0]\n"
   ]
  },
  {
   "cell_type": "code",
   "execution_count": 11,
   "id": "529a05e2",
   "metadata": {},
   "outputs": [],
   "source": [
    "oldest_person_age = df['Age'].max()\n",
    "oldest_index = df[df['Age'] == oldest_person_age].index.values\n",
    "oldest_patient_number = pd.DataFrame(df.loc[oldest_index, 'Age']).shape[0]"
   ]
  },
  {
   "cell_type": "code",
   "execution_count": 12,
   "id": "2666bc98",
   "metadata": {},
   "outputs": [
    {
     "name": "stdout",
     "output_type": "stream",
     "text": [
      "Youngest and Oldest patient:\n"
     ]
    },
    {
     "data": {
      "text/html": [
       "<style type=\"text/css\">\n",
       "</style>\n",
       "<table id=\"T_9ce4f\">\n",
       "  <thead>\n",
       "    <tr>\n",
       "      <th id=\"T_9ce4f_level0_col0\" class=\"col_heading level0 col0\" >Age</th>\n",
       "      <th id=\"T_9ce4f_level0_col1\" class=\"col_heading level0 col1\" >Total Patient</th>\n",
       "    </tr>\n",
       "  </thead>\n",
       "  <tbody>\n",
       "    <tr>\n",
       "      <td id=\"T_9ce4f_row0_col0\" class=\"data row0 col0\" >13</td>\n",
       "      <td id=\"T_9ce4f_row0_col1\" class=\"data row0 col1\" >14</td>\n",
       "    </tr>\n",
       "    <tr>\n",
       "      <td id=\"T_9ce4f_row1_col0\" class=\"data row1 col0\" >89</td>\n",
       "      <td id=\"T_9ce4f_row1_col1\" class=\"data row1 col1\" >8</td>\n",
       "    </tr>\n",
       "  </tbody>\n",
       "</table>\n"
      ],
      "text/plain": [
       "<pandas.io.formats.style.Styler at 0x2594807d110>"
      ]
     },
     "execution_count": 12,
     "metadata": {},
     "output_type": "execute_result"
    }
   ],
   "source": [
    "range_summary = pd.DataFrame({\n",
    "    'Age' : [youngest_person_age, oldest_person_age],\n",
    "    'Total Patient': [youngest_patient_number, oldest_patient_number]\n",
    "})\n",
    "print('Youngest and Oldest patient:')\n",
    "range_summary.style.hide()"
   ]
  },
  {
   "cell_type": "code",
   "execution_count": 13,
   "id": "b086ba1e",
   "metadata": {},
   "outputs": [
    {
     "data": {
      "text/plain": [
       "Mean      51.539459\n",
       "Median    52.000000\n",
       "dtype: float64"
      ]
     },
     "execution_count": 13,
     "metadata": {},
     "output_type": "execute_result"
    }
   ],
   "source": [
    "central_tendency = pd.Series({\n",
    "    'Mean' : df['Age'].mean(),\n",
    "    'Median' : df['Age'].median()\n",
    "})\n",
    "central_tendency"
   ]
  },
  {
   "cell_type": "code",
   "execution_count": 14,
   "id": "7c0671c2",
   "metadata": {},
   "outputs": [
    {
     "data": {
      "text/plain": [
       "0    38\n",
       "Name: Age, dtype: int64"
      ]
     },
     "execution_count": 14,
     "metadata": {},
     "output_type": "execute_result"
    }
   ],
   "source": [
    "df['Age'].mode()"
   ]
  },
  {
   "cell_type": "code",
   "execution_count": 23,
   "id": "f0c8d3e8",
   "metadata": {},
   "outputs": [
    {
     "data": {
      "image/png": "[encoded data removed]",
      "text/plain": [
       "<Figure size 640x480 with 1 Axes>"
      ]
     },
     "metadata": {},
     "output_type": "display_data"
    }
   ],
   "source": [
    "plt.xlabel('Age')\n",
    "plt.ylabel('Frequency')\n",
    "plt.title('Age vs Frequency Chart')\n",
    "plt.hist(df['Age'], bins =np.arange(10, 91,10), edgecolor ='black')\n",
    "plt.xlim(10,90)\n",
    "plt.show()"
   ]
  },
  {
   "cell_type": "markdown",
   "id": "2f67e916",
   "metadata": {},
   "source": [
    "## Analyzing Blood Type\n",
    "\n",
    "Question:\n",
    "1. Which blood groups are there in the data?\n",
    "2. Make a barchart and a pie chart."
   ]
  },
  {
   "cell_type": "code",
   "execution_count": 40,
   "id": "1c5d6736",
   "metadata": {},
   "outputs": [
    {
     "data": {
      "text/plain": [
       "{'A+', 'A-', 'AB+', 'AB-', 'B+', 'B-', 'O+', 'O-'}"
      ]
     },
     "execution_count": 40,
     "metadata": {},
     "output_type": "execute_result"
    }
   ],
   "source": [
    "blood_type = (set(df['Blood Type']))\n",
    "blood_type"
   ]
  },
  {
   "cell_type": "code",
   "execution_count": 36,
   "id": "81630ba0",
   "metadata": {},
   "outputs": [],
   "source": [
    "a_positive_index = df[df['Blood Type'] == 'A+'].index.values\n",
    "a_positive_number = pd.DataFrame(df.loc[a_positive_index,'Blood Type']).shape[0]\n",
    "\n",
    "a_negative_index = df[df['Blood Type'] == 'A-'].index.values\n",
    "a_negative_number = pd.DataFrame(df.loc[a_negative_index, 'Blood Type']).shape[0]\n",
    "\n",
    "b_positive_index = df[df['Blood Type'] == 'A+'].index.values\n",
    "b_positive_number = pd.DataFrame(df.loc[b_positive_index,'Blood Type']).shape[0]\n",
    "\n",
    "b_negative_index = df[df['Blood Type'] == 'A-'].index.values\n",
    "b_negative_number = pd.DataFrame(df.loc[b_negative_index, 'Blood Type']).shape[0]\n",
    "\n",
    "ab_positive_index = df[df['Blood Type'] == 'A+'].index.values\n",
    "ab_positive_number = pd.DataFrame(df.loc[ab_positive_index,'Blood Type']).shape[0]\n",
    "\n",
    "ab_negative_index = df[df['Blood Type'] == 'A-'].index.values\n",
    "ab_negative_number = pd.DataFrame(df.loc[ab_negative_index, 'Blood Type']).shape[0]\n",
    "\n",
    "o_positive_index = df[df['Blood Type'] == 'A+'].index.values\n",
    "o_positive_number = pd.DataFrame(df.loc[o_positive_index,'Blood Type']).shape[0]\n",
    "\n",
    "o_negative_index = df[df['Blood Type'] == 'A-'].index.values\n",
    "o_negative_number = pd.DataFrame(df.loc[o_negative_index, 'Blood Type']).shape[0]\n",
    "        "
   ]
  },
  {
   "cell_type": "code",
   "execution_count": 37,
   "id": "aa93b0bb",
   "metadata": {},
   "outputs": [
    {
     "data": {
      "text/plain": [
       "int"
      ]
     },
     "execution_count": 37,
     "metadata": {},
     "output_type": "execute_result"
    }
   ],
   "source": [
    "type(a_negative_number)"
   ]
  },
  {
   "cell_type": "code",
   "execution_count": 42,
   "id": "8cd5eac8",
   "metadata": {},
   "outputs": [],
   "source": [
    "blood_type_series = pd.Series([a_positive_number,a_negative_number,ab_positive_number,ab_negative_number,\n",
    "                               b_positive_number, b_negative_number, o_positive_number, o_negative_number],\n",
    "                              index= (blood_type))\n"
   ]
  },
  {
   "cell_type": "code",
   "execution_count": 53,
   "id": "484e4ee6",
   "metadata": {},
   "outputs": [
    {
     "data": {
      "image/png": "[encoded data removed]",
      "text/plain": [
       "<Figure size 640x480 with 1 Axes>"
      ]
     },
     "metadata": {},
     "output_type": "display_data"
    }
   ],
   "source": [
    "plt.title('Blood Type')\n",
    "blood_type_series.plot(kind='pie')\n",
    "# plt.gca().patch.set_color('red')\n",
    "# plt.gca().patch.set_linewidth(10)\n",
    "plt.show()"
   ]
  },
  {
   "cell_type": "code",
   "execution_count": null,
   "id": "9a32dabc",
   "metadata": {},
   "outputs": [],
   "source": []
  }
 ],
 "metadata": {
  "kernelspec": {
   "display_name": "Python 3 (ipykernel)",
   "language": "python",
   "name": "python3"
  },
  "language_info": {
   "codemirror_mode": {
    "name": "ipython",
    "version": 3
   },
   "file_extension": ".py",
   "mimetype": "text/x-python",
   "name": "python",
   "nbconvert_exporter": "python",
   "pygments_lexer": "ipython3",
   "version": "3.11.2"
  }
 },
 "nbformat": 4,
 "nbformat_minor": 5
}
